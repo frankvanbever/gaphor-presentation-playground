{
 "cells": [
  {
   "cell_type": "code",
   "execution_count": 6,
   "id": "bb7ccfc6-f6ed-4bbf-9b4c-281393be8851",
   "metadata": {},
   "outputs": [
    {
     "name": "stdout",
     "output_type": "stream",
     "text": [
      "Unsatisfied requirements:\n",
      "-------------------------\n",
      "09b17aca-70f6-11ec-aabc-f47b099bf663 -- Feature User Need\n",
      "75afe800-716f-11ec-999a-f47b099bf663 -- Example System Requirement\n",
      "8bf1fd8a-7172-11ec-999a-f47b099bf663 -- Example Technology Requirement\n"
     ]
    }
   ],
   "source": [
    "from gaphor.core.eventmanager import EventManager\n",
    "from gaphor.services.modelinglanguage import ModelingLanguageService\n",
    "from gaphor.storage import storage\n",
    "from gaphor.core.modeling import ElementFactory\n",
    "from gaphor import SysML\n",
    "\n",
    "element_factory = ElementFactory()\n",
    "event_manager = EventManager()\n",
    "modeling_language = ModelingLanguageService(event_manager=event_manager)\n",
    "with open(\"model.gaphor\") as file_obj:\n",
    "    storage.load(file_obj,\n",
    "                 element_factory,\n",
    "                 modeling_language)\n",
    "\n",
    "reqs = element_factory.select(SysML.sysml.Requirement)\n",
    "unsatisfied_reqs = [req for req in reqs if not req.satisfiedBy]\n",
    "if unsatisfied_reqs:\n",
    "    print(\"Unsatisfied requirements:\")\n",
    "    print(\"-------------------------\")\n",
    "    for req in unsatisfied_reqs:\n",
    "        print(f\"{req.id} -- {req.name}\")"
   ]
  },
  {
   "cell_type": "code",
   "execution_count": null,
   "id": "d3e3afd1-2f67-4827-8fce-13bd2f8c554b",
   "metadata": {},
   "outputs": [],
   "source": []
  }
 ],
 "metadata": {
  "kernelspec": {
   "display_name": "Python 3 (ipykernel)",
   "language": "python",
   "name": "python3"
  },
  "language_info": {
   "codemirror_mode": {
    "name": "ipython",
    "version": 3
   },
   "file_extension": ".py",
   "mimetype": "text/x-python",
   "name": "python",
   "nbconvert_exporter": "python",
   "pygments_lexer": "ipython3",
   "version": "3.11.6"
  }
 },
 "nbformat": 4,
 "nbformat_minor": 5
}
